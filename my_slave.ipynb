{
 "cells": [
  {
   "cell_type": "code",
   "execution_count": 1,
   "metadata": {},
   "outputs": [],
   "source": [
    "from PIL import Image\n",
    "import numpy as np\n",
    "import pandas as pd \n",
    "import shutil\n",
    "import sys\n",
    "import os\n",
    "import csv"
   ]
  },
  {
   "cell_type": "code",
   "execution_count": 2,
   "metadata": {},
   "outputs": [],
   "source": [
    "def createCsv(myDir):\n",
    "    \n",
    "    csvName = 'flower_lables.csv'\n",
    "    if os.path.exists(csvName):\n",
    "        os.remove(csvName) \n",
    "   \n",
    "    with open(csvName, 'a') as f:\n",
    "        writer = csv.writer(f)\n",
    "        writer.writerow([\"file\"]+[\"label\"])\n",
    "    \n",
    "    aux1 = -1\n",
    "    aux2 = 0\n",
    "    fileList = []\n",
    "    \n",
    "    for root, dirs, files in os.walk(myDir, topdown=False):\n",
    "        aux1 += 1\n",
    "        \n",
    "        for name in files:\n",
    "            \n",
    "            if name.endswith('.jpg'):\n",
    "                fullName = os.path.join(root, name)\n",
    "                fileList.append(fullName)\n",
    "                aux2 += 1\n",
    "                \n",
    "                with open(csvName, 'a') as f:\n",
    "                    writer = csv.writer(f)\n",
    "                    writer.writerow([\"{:04n}\".format(aux2)+\".jpg\"]+[\"{:01n}\".format(aux1)])\n",
    "    \n",
    "    return os.path.dirname(os.path.realpath(csvName))+\"/\"+csvName"
   ]
  },
  {
   "cell_type": "code",
   "execution_count": 3,
   "metadata": {},
   "outputs": [],
   "source": [
    "def mergeAndRename(working_dir):\n",
    "   \n",
    "    dirName = \"flower_images_2_new\"\n",
    "    dirCompleteName = \"/home/edoardospinetti/Desktop/Progetto/flower_images_2_new/\"\n",
    "    aux = 0\n",
    "    \n",
    "    if os.path.exists(dirName):\n",
    "            shutil.rmtree(dirName) \n",
    "\n",
    "    os.mkdir(dirName)\n",
    "\n",
    "    for root, dirs, files in os.walk(working_dir):\n",
    "            \n",
    "            for filename in files:\n",
    "                if filename.endswith('.jpg'):\n",
    "                    aux += 1\n",
    "                    fullName = os.path.join(root, filename)\n",
    "                    shutil.copy(fullName, dirCompleteName)\n",
    "\n",
    "                    newFullName = os.path.join(dirCompleteName, filename)\n",
    "                    new_dst_file_name = os.path.join(dirCompleteName, \"{:04n}\".format(aux)+\".jpg\")\n",
    "                    os.rename(newFullName, new_dst_file_name)\n",
    "    \n",
    "    return dirCompleteName\n"
   ]
  },
  {
   "cell_type": "code",
   "execution_count": 4,
   "metadata": {},
   "outputs": [],
   "source": [
    "def MakeFitDataset(working_dir):\n",
    "   \n",
    "    auxdirName = \"flower_images_2_aux\"\n",
    "    auxdirCompleteName = \"/home/edoardospinetti/Desktop/Progetto/flower_images_2_aux/\"\n",
    "    \n",
    "    count = 0\n",
    "    \n",
    "    if os.path.exists(auxdirName):\n",
    "        shutil.rmtree(auxdirName) \n",
    "\n",
    "    shutil.copytree(working_dir, auxdirName)\n",
    "    \n",
    "    for root, dirs, files in os.walk(auxdirName):\n",
    "        for dirname in dirs:\n",
    "            fullName = os.path.join(root, dirname)\n",
    "            count = 0\n",
    "            for root_, dirs_, files_ in os.walk(fullName):\n",
    "                for filename in files_:\n",
    "                    if filename.endswith('.jpg'):       \n",
    "                        count += 1\n",
    "                        if count >= 100:\n",
    "                            fullName_ = os.path.join(auxdirCompleteName+dirname, filename)\n",
    "                            os.remove(fullName_)\n",
    "    \n",
    "    csv_path = createCsv(auxdirCompleteName)\n",
    "    target_path = mergeAndRename(auxdirCompleteName)\n",
    "    shutil.rmtree(auxdirName)\n",
    "    shutil.move(csv_path, target_path) \n",
    "    return \"Done\""
   ]
  },
  {
   "cell_type": "code",
   "execution_count": 5,
   "metadata": {},
   "outputs": [
    {
     "data": {
      "text/plain": [
       "0"
      ]
     },
     "execution_count": 5,
     "metadata": {},
     "output_type": "execute_result"
    }
   ],
   "source": [
    "#working_dir = \"/home/edoardospinetti/Desktop/Progetto/flower_images_2/\"\n",
    "#MakeFitDataset(working_dir)"
   ]
  }
 ],
 "metadata": {
  "kernelspec": {
   "display_name": "Python 3",
   "language": "python",
   "name": "python3"
  },
  "language_info": {
   "codemirror_mode": {
    "name": "ipython",
    "version": 3
   },
   "file_extension": ".py",
   "mimetype": "text/x-python",
   "name": "python",
   "nbconvert_exporter": "python",
   "pygments_lexer": "ipython3",
   "version": "3.6.7"
  }
 },
 "nbformat": 4,
 "nbformat_minor": 2
}
