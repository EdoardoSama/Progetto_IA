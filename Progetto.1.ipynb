{
 "cells": [
  {
   "cell_type": "code",
   "execution_count": 1,
   "metadata": {},
   "outputs": [],
   "source": [
    "from PIL import Image\n",
    "import numpy as np\n",
    "import pandas as pd \n",
    "import shutil\n",
    "import sys\n",
    "import os\n",
    "import csv"
   ]
  },
  {
   "cell_type": "code",
   "execution_count": 2,
   "metadata": {},
   "outputs": [],
   "source": [
    "# Useful function 1\n",
    "# myDir = '/home/edoardospinetti/Desktop/Progetto/flowers'\n",
    "def createCsv(myDir):\n",
    "    \n",
    "    if os.path.exists('img_pixels.csv'):\n",
    "        os.remove('img_pixels.csv') \n",
    "   \n",
    "    with open(\"img_pixels.csv\", 'a') as f:\n",
    "        writer = csv.writer(f)\n",
    "        writer.writerow([\"file\"]+[\"label\"])\n",
    "    \n",
    "    aux1 = -1\n",
    "    aux2 = 0\n",
    "    fileList = []\n",
    "    \n",
    "    for root, dirs, files in os.walk(myDir, topdown=False):\n",
    "        aux1 += 1\n",
    "        \n",
    "        for name in files:\n",
    "            \n",
    "            if name.endswith('.jpg'):\n",
    "                fullName = os.path.join(root, name)\n",
    "                fileList.append(fullName)\n",
    "                aux2 += 1\n",
    "                \n",
    "                with open(\"img_pixels.csv\", 'a') as f:\n",
    "                    writer = csv.writer(f)\n",
    "                    writer.writerow([\"{:04n}\".format(aux2)+\".jpg\"]+[\"{:01n}\".format(aux1)])"
   ]
  },
  {
   "cell_type": "code",
   "execution_count": 3,
   "metadata": {},
   "outputs": [],
   "source": [
    "#Useful function 2\n",
    "#working_dir = \"/home/edoardospinetti/Desktop/Progetto/flower_images_2/\"\n",
    "\n",
    "def mergeAndRename(working_dir):\n",
    "   \n",
    "    dirName = \"flower_images_2_new\"\n",
    "    dirCompleteName = \"/home/edoardospinetti/Desktop/Progetto/flower_images_2_new/\"\n",
    "    aux = 0\n",
    "    \n",
    "    if os.path.exists(dirName):\n",
    "            shutil.rmtree(dirName) \n",
    "\n",
    "    os.mkdir(dirName)\n",
    "\n",
    "    for root, dirs, files in os.walk(working_dir):\n",
    "            \n",
    "            for filename in files:\n",
    "                if filename.endswith('.jpg'):\n",
    "                    aux += 1\n",
    "                    fullName = os.path.join(root, filename)\n",
    "                    shutil.copy(fullName, dirCompleteName)\n",
    "\n",
    "                    newFullName = os.path.join(dirCompleteName, filename)\n",
    "                    new_dst_file_name = os.path.join(dirCompleteName, \"{:04n}\".format(aux)+\".jpg\")\n",
    "                    os.rename(newFullName, new_dst_file_name)\n",
    "\n",
    "\n",
    "working_dir = \"/home/edoardospinetti/Desktop/Progetto/flower_images_2/\"\n",
    "mergeAndRename(working_dir)"
   ]
  },
  {
   "cell_type": "code",
   "execution_count": null,
   "metadata": {},
   "outputs": [],
   "source": []
  }
 ],
 "metadata": {
  "kernelspec": {
   "display_name": "Python 3",
   "language": "python",
   "name": "python3"
  },
  "language_info": {
   "codemirror_mode": {
    "name": "ipython",
    "version": 3
   },
   "file_extension": ".py",
   "mimetype": "text/x-python",
   "name": "python",
   "nbconvert_exporter": "python",
   "pygments_lexer": "ipython3",
   "version": "3.6.7"
  }
 },
 "nbformat": 4,
 "nbformat_minor": 2
}
